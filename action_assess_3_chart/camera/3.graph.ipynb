{
 "cells": [
  {
   "cell_type": "code",
   "execution_count": 17,
   "metadata": {},
   "outputs": [
    {
     "data": {
      "text/plain": [
       "8"
      ]
     },
     "execution_count": 17,
     "metadata": {},
     "output_type": "execute_result"
    }
   ],
   "source": []
  },
  {
   "cell_type": "code",
   "execution_count": null,
   "metadata": {},
   "outputs": [],
   "source": [
    "import cv2\n",
    "import numpy as np\n",
    "import matplotlib.pyplot as plt\n",
    "from math import pi\n",
    "import pandas as pd\n",
    "import os\n",
    "\n",
    "# 영상 불러오기\n",
    "video_path = 'C:/Users/jk/action_assess_2/post_data/video/Z76_Z76_keypoints.avi'\n",
    "cap = cv2.VideoCapture(video_path)\n",
    "\n",
    "# 비디오 저장 설정\n",
    "output_path = 'C:/Users/jk/action_assess_2/post_data/video/output_with_radar_chart.avi'\n",
    "frame_save_path = 'C:/Users/jk/action_assess_2/post_data/video/frames'\n",
    "os.makedirs(frame_save_path, exist_ok=True)\n",
    "fourcc = cv2.VideoWriter_fourcc(*'XVID')\n",
    "fps = cap.get(cv2.CAP_PROP_FPS)\n",
    "frame_width = int(cap.get(cv2.CAP_PROP_FRAME_WIDTH))\n",
    "frame_height = int(cap.get(cv2.CAP_PROP_FRAME_HEIGHT))\n",
    "combined_width = frame_width + 800  # Adjust the width to accommodate the radar chart\n",
    "combined_height = frame_height  # Keep the height the same as the video frame\n",
    "out = cv2.VideoWriter(output_path, fourcc, fps, (combined_width, combined_height))\n",
    "\n",
    "# 레이더 차트 그리기 함수\n",
    "def draw_radar_chart(ax, data, labels, color):\n",
    "    num_labels = len(labels)\n",
    "    angles = [x / float(num_labels) * (2 * pi) for x in range(num_labels)]\n",
    "    angles += angles[:1]\n",
    "    \n",
    "    ax.set_theta_offset(pi / 2)\n",
    "    ax.set_theta_direction(-1)\n",
    "    \n",
    "    plt.xticks(angles[:-1], labels, fontsize=13)\n",
    "    ax.tick_params(axis='x', which='major', pad=15)\n",
    "    \n",
    "    ax.set_rlabel_position(0)\n",
    "    plt.yticks([0, 2, 4, 6, 8, 10], ['0', '2', '4', '6', '8', '10'], fontsize=10)\n",
    "    plt.ylim(0, 10)\n",
    "    \n",
    "    data += data[:1]\n",
    "    ax.plot(angles, data, color=color, linewidth=2, linestyle='solid')\n",
    "    ax.fill(angles, data, color=color, alpha=0.4)\n",
    "\n",
    "frame_count = 0\n",
    "\n",
    "while cap.isOpened():\n",
    "    ret, frame = cap.read()\n",
    "    if not ret:\n",
    "        break\n",
    "\n",
    "    # 데이터프레임 예시 (실제 데이터프레임을 사용하세요)\n",
    "    data = {\n",
    "        'Character': ['A'],\n",
    "        'Metric1': [np.random.randint(1, 10)],\n",
    "        'Metric2': [np.random.randint(1, 10)],\n",
    "        'Metric3': [np.random.randint(1, 10)],\n",
    "        'Metric4': [np.random.randint(1, 10)],\n",
    "        'Metric5': [np.random.randint(1, 10)],\n",
    "        'Metric6': [np.random.randint(1, 10)]\n",
    "    }\n",
    "    df = pd.DataFrame(data)\n",
    "\n",
    "    # Matplotlib를 사용하여 레이더 차트 시각화\n",
    "    labels = df.columns[1:]\n",
    "    my_palette = plt.cm.get_cmap(\"Set2\", len(df.index))\n",
    "\n",
    "    fig = plt.figure(figsize=(8, 8))\n",
    "    fig.set_facecolor('white')\n",
    "    ax = fig.add_subplot(111, polar=True)\n",
    "\n",
    "    for i, row in df.iterrows():\n",
    "        color = my_palette(i)\n",
    "        data = row.drop('Character').tolist()\n",
    "        draw_radar_chart(ax, data, labels, color)\n",
    "\n",
    "    plt.legend(df['Character'], loc=(0.9, 0.9))\n",
    "    fig.canvas.draw()\n",
    "    \n",
    "    # Matplotlib의 레이더 차트를 OpenCV 이미지로 변환\n",
    "    radar_chart_image = np.frombuffer(fig.canvas.tostring_rgb(), dtype=np.uint8)\n",
    "    radar_chart_image = radar_chart_image.reshape(fig.canvas.get_width_height()[::-1] + (3,))\n",
    "    radar_chart_image = cv2.cvtColor(radar_chart_image, cv2.COLOR_RGB2BGR)\n",
    "    \n",
    "    plt.close(fig)\n",
    "\n",
    "    # Create a larger canvas to hold both the video frame and the radar chart\n",
    "    combined_image = np.zeros((combined_height, combined_width, 3), dtype=np.uint8)\n",
    "\n",
    "    # Place the video frame on the left side of the canvas\n",
    "    combined_image[:frame_height, :frame_width] = frame\n",
    "\n",
    "    # Place the radar chart on the right side of the canvas\n",
    "    combined_image[:radar_chart_image.shape[0], frame_width:frame_width + radar_chart_image.shape[1]] = radar_chart_image\n",
    "\n",
    "    # 비디오 저장\n",
    "    out.write(combined_image)\n",
    "\n",
    "    # 프레임을 개별 이미지로 저장\n",
    "    frame_filename = os.path.join(frame_save_path, f'frame_{frame_count:04d}.png')\n",
    "    cv2.imwrite(frame_filename, combined_image)\n",
    "\n",
    "    frame_count += 1\n",
    "    print(f'Processed frame {frame_count}')\n",
    "\n",
    "    # OpenCV를 사용하여 최종 영상 시각화 (원하는 경우 주석 해제)\n",
    "    # cv2.imshow('Video Frame with Radar Chart', combined_image)\n",
    "    \n",
    "    # if cv2.waitKey(1) & 0xFF == ord('q'):\n",
    "    #     break\n",
    "\n",
    "# 자원 해제\n",
    "cap.release()\n",
    "out.release()\n",
    "cv2.destroyAllWindows()"
   ]
  },
  {
   "cell_type": "code",
   "execution_count": 20,
   "metadata": {},
   "outputs": [
    {
     "data": {
      "text/html": [
       "<div>\n",
       "<style scoped>\n",
       "    .dataframe tbody tr th:only-of-type {\n",
       "        vertical-align: middle;\n",
       "    }\n",
       "\n",
       "    .dataframe tbody tr th {\n",
       "        vertical-align: top;\n",
       "    }\n",
       "\n",
       "    .dataframe thead th {\n",
       "        text-align: right;\n",
       "    }\n",
       "</style>\n",
       "<table border=\"1\" class=\"dataframe\">\n",
       "  <thead>\n",
       "    <tr style=\"text-align: right;\">\n",
       "      <th></th>\n",
       "      <th>Character</th>\n",
       "      <th>Metric1</th>\n",
       "      <th>Metric2</th>\n",
       "      <th>Metric3</th>\n",
       "      <th>Metric4</th>\n",
       "      <th>Metric5</th>\n",
       "      <th>Metric6</th>\n",
       "    </tr>\n",
       "  </thead>\n",
       "  <tbody>\n",
       "    <tr>\n",
       "      <th>0</th>\n",
       "      <td>A</td>\n",
       "      <td>5</td>\n",
       "      <td>6</td>\n",
       "      <td>8</td>\n",
       "      <td>7</td>\n",
       "      <td>6</td>\n",
       "      <td>5</td>\n",
       "    </tr>\n",
       "    <tr>\n",
       "      <th>1</th>\n",
       "      <td>A</td>\n",
       "      <td>6</td>\n",
       "      <td>7</td>\n",
       "      <td>9</td>\n",
       "      <td>3</td>\n",
       "      <td>2</td>\n",
       "      <td>4</td>\n",
       "    </tr>\n",
       "  </tbody>\n",
       "</table>\n",
       "</div>"
      ],
      "text/plain": [
       "  Character  Metric1  Metric2  Metric3  Metric4  Metric5  Metric6\n",
       "0         A        5        6        8        7        6        5\n",
       "1         A        6        7        9        3        2        4"
      ]
     },
     "execution_count": 20,
     "metadata": {},
     "output_type": "execute_result"
    }
   ],
   "source": [
    "# 데이터프레임 예시 (실제 데이터프레임을 사용하세요)\n",
    "data = {\n",
    "    'Character': ['A'],\n",
    "    'Metric1': [5,6],\n",
    "    'Metric2': [6,7],\n",
    "    'Metric3': [8,9],\n",
    "    'Metric4': [7,3],\n",
    "    'Metric5': [6,2],\n",
    "    'Metric6': [5,4]\n",
    "}\n",
    "df = pd.DataFrame(data)\n",
    "df"
   ]
  },
  {
   "cell_type": "code",
   "execution_count": 28,
   "metadata": {},
   "outputs": [
    {
     "name": "stdout",
     "output_type": "stream",
     "text": [
      "  Character  Postural stability  Velocity stability  Degree of exercise   \\\n",
      "0         A                   5                   6                    8   \n",
      "1         A                   6                   7                    9   \n",
      "2         A                   7                   8                    7   \n",
      "3         A                   4                   5                    6   \n",
      "4         A                   5                   6                    5   \n",
      "5         A                   6                   7                    4   \n",
      "\n",
      "   Eccentric contraction    Concentric contraction  Isometric contraction  \n",
      "0                        7                       6                      5  \n",
      "1                        3                       2                      4  \n",
      "2                        5                       4                      3  \n",
      "3                        4                       3                      2  \n",
      "4                        3                       2                      1  \n",
      "5                        2                       1                      3  \n",
      "Processed frame 1\n"
     ]
    },
    {
     "name": "stderr",
     "output_type": "stream",
     "text": [
      "C:\\Users\\HYVision\\AppData\\Local\\Temp\\ipykernel_15180\\3846269758.py:62: MatplotlibDeprecationWarning: The get_cmap function was deprecated in Matplotlib 3.7 and will be removed two minor releases later. Use ``matplotlib.colormaps[name]`` or ``matplotlib.colormaps.get_cmap(obj)`` instead.\n",
      "  my_palette = plt.cm.get_cmap(\"Set2\", 1)\n",
      "C:\\Users\\HYVision\\AppData\\Local\\Temp\\ipykernel_15180\\3846269758.py:87: MatplotlibDeprecationWarning: The tostring_rgb function was deprecated in Matplotlib 3.8 and will be removed two minor releases later. Use buffer_rgba instead.\n",
      "  radar_chart_image = np.frombuffer(fig.canvas.tostring_rgb(), dtype=np.uint8)\n",
      "C:\\Users\\HYVision\\AppData\\Local\\Temp\\ipykernel_15180\\3846269758.py:87: MatplotlibDeprecationWarning: The tostring_rgb function was deprecated in Matplotlib 3.8 and will be removed two minor releases later. Use buffer_rgba instead.\n",
      "  radar_chart_image = np.frombuffer(fig.canvas.tostring_rgb(), dtype=np.uint8)\n",
      "C:\\Users\\HYVision\\AppData\\Local\\Temp\\ipykernel_15180\\3846269758.py:87: MatplotlibDeprecationWarning: The tostring_rgb function was deprecated in Matplotlib 3.8 and will be removed two minor releases later. Use buffer_rgba instead.\n",
      "  radar_chart_image = np.frombuffer(fig.canvas.tostring_rgb(), dtype=np.uint8)\n"
     ]
    },
    {
     "name": "stdout",
     "output_type": "stream",
     "text": [
      "Processed frame 2\n",
      "Processed frame 3\n"
     ]
    },
    {
     "name": "stderr",
     "output_type": "stream",
     "text": [
      "C:\\Users\\HYVision\\AppData\\Local\\Temp\\ipykernel_15180\\3846269758.py:87: MatplotlibDeprecationWarning: The tostring_rgb function was deprecated in Matplotlib 3.8 and will be removed two minor releases later. Use buffer_rgba instead.\n",
      "  radar_chart_image = np.frombuffer(fig.canvas.tostring_rgb(), dtype=np.uint8)\n",
      "C:\\Users\\HYVision\\AppData\\Local\\Temp\\ipykernel_15180\\3846269758.py:87: MatplotlibDeprecationWarning: The tostring_rgb function was deprecated in Matplotlib 3.8 and will be removed two minor releases later. Use buffer_rgba instead.\n",
      "  radar_chart_image = np.frombuffer(fig.canvas.tostring_rgb(), dtype=np.uint8)\n"
     ]
    },
    {
     "name": "stdout",
     "output_type": "stream",
     "text": [
      "Processed frame 4\n",
      "Processed frame 5\n"
     ]
    },
    {
     "name": "stderr",
     "output_type": "stream",
     "text": [
      "C:\\Users\\HYVision\\AppData\\Local\\Temp\\ipykernel_15180\\3846269758.py:87: MatplotlibDeprecationWarning: The tostring_rgb function was deprecated in Matplotlib 3.8 and will be removed two minor releases later. Use buffer_rgba instead.\n",
      "  radar_chart_image = np.frombuffer(fig.canvas.tostring_rgb(), dtype=np.uint8)\n",
      "C:\\Users\\HYVision\\AppData\\Local\\Temp\\ipykernel_15180\\3846269758.py:87: MatplotlibDeprecationWarning: The tostring_rgb function was deprecated in Matplotlib 3.8 and will be removed two minor releases later. Use buffer_rgba instead.\n",
      "  radar_chart_image = np.frombuffer(fig.canvas.tostring_rgb(), dtype=np.uint8)\n"
     ]
    },
    {
     "name": "stdout",
     "output_type": "stream",
     "text": [
      "Processed frame 6\n",
      "Processed frame 7\n"
     ]
    },
    {
     "name": "stderr",
     "output_type": "stream",
     "text": [
      "C:\\Users\\HYVision\\AppData\\Local\\Temp\\ipykernel_15180\\3846269758.py:87: MatplotlibDeprecationWarning: The tostring_rgb function was deprecated in Matplotlib 3.8 and will be removed two minor releases later. Use buffer_rgba instead.\n",
      "  radar_chart_image = np.frombuffer(fig.canvas.tostring_rgb(), dtype=np.uint8)\n",
      "C:\\Users\\HYVision\\AppData\\Local\\Temp\\ipykernel_15180\\3846269758.py:87: MatplotlibDeprecationWarning: The tostring_rgb function was deprecated in Matplotlib 3.8 and will be removed two minor releases later. Use buffer_rgba instead.\n",
      "  radar_chart_image = np.frombuffer(fig.canvas.tostring_rgb(), dtype=np.uint8)\n"
     ]
    },
    {
     "name": "stdout",
     "output_type": "stream",
     "text": [
      "Processed frame 8\n",
      "Processed frame 9\n"
     ]
    },
    {
     "name": "stderr",
     "output_type": "stream",
     "text": [
      "C:\\Users\\HYVision\\AppData\\Local\\Temp\\ipykernel_15180\\3846269758.py:87: MatplotlibDeprecationWarning: The tostring_rgb function was deprecated in Matplotlib 3.8 and will be removed two minor releases later. Use buffer_rgba instead.\n",
      "  radar_chart_image = np.frombuffer(fig.canvas.tostring_rgb(), dtype=np.uint8)\n",
      "C:\\Users\\HYVision\\AppData\\Local\\Temp\\ipykernel_15180\\3846269758.py:87: MatplotlibDeprecationWarning: The tostring_rgb function was deprecated in Matplotlib 3.8 and will be removed two minor releases later. Use buffer_rgba instead.\n",
      "  radar_chart_image = np.frombuffer(fig.canvas.tostring_rgb(), dtype=np.uint8)\n"
     ]
    },
    {
     "name": "stdout",
     "output_type": "stream",
     "text": [
      "Processed frame 10\n",
      "Processed frame 11\n"
     ]
    },
    {
     "name": "stderr",
     "output_type": "stream",
     "text": [
      "C:\\Users\\HYVision\\AppData\\Local\\Temp\\ipykernel_15180\\3846269758.py:87: MatplotlibDeprecationWarning: The tostring_rgb function was deprecated in Matplotlib 3.8 and will be removed two minor releases later. Use buffer_rgba instead.\n",
      "  radar_chart_image = np.frombuffer(fig.canvas.tostring_rgb(), dtype=np.uint8)\n",
      "C:\\Users\\HYVision\\AppData\\Local\\Temp\\ipykernel_15180\\3846269758.py:87: MatplotlibDeprecationWarning: The tostring_rgb function was deprecated in Matplotlib 3.8 and will be removed two minor releases later. Use buffer_rgba instead.\n",
      "  radar_chart_image = np.frombuffer(fig.canvas.tostring_rgb(), dtype=np.uint8)\n"
     ]
    },
    {
     "name": "stdout",
     "output_type": "stream",
     "text": [
      "Processed frame 12\n",
      "Processed frame 13\n"
     ]
    },
    {
     "name": "stderr",
     "output_type": "stream",
     "text": [
      "C:\\Users\\HYVision\\AppData\\Local\\Temp\\ipykernel_15180\\3846269758.py:87: MatplotlibDeprecationWarning: The tostring_rgb function was deprecated in Matplotlib 3.8 and will be removed two minor releases later. Use buffer_rgba instead.\n",
      "  radar_chart_image = np.frombuffer(fig.canvas.tostring_rgb(), dtype=np.uint8)\n",
      "C:\\Users\\HYVision\\AppData\\Local\\Temp\\ipykernel_15180\\3846269758.py:87: MatplotlibDeprecationWarning: The tostring_rgb function was deprecated in Matplotlib 3.8 and will be removed two minor releases later. Use buffer_rgba instead.\n",
      "  radar_chart_image = np.frombuffer(fig.canvas.tostring_rgb(), dtype=np.uint8)\n"
     ]
    },
    {
     "name": "stdout",
     "output_type": "stream",
     "text": [
      "Processed frame 14\n",
      "Processed frame 15\n"
     ]
    },
    {
     "name": "stderr",
     "output_type": "stream",
     "text": [
      "C:\\Users\\HYVision\\AppData\\Local\\Temp\\ipykernel_15180\\3846269758.py:87: MatplotlibDeprecationWarning: The tostring_rgb function was deprecated in Matplotlib 3.8 and will be removed two minor releases later. Use buffer_rgba instead.\n",
      "  radar_chart_image = np.frombuffer(fig.canvas.tostring_rgb(), dtype=np.uint8)\n",
      "C:\\Users\\HYVision\\AppData\\Local\\Temp\\ipykernel_15180\\3846269758.py:87: MatplotlibDeprecationWarning: The tostring_rgb function was deprecated in Matplotlib 3.8 and will be removed two minor releases later. Use buffer_rgba instead.\n",
      "  radar_chart_image = np.frombuffer(fig.canvas.tostring_rgb(), dtype=np.uint8)\n"
     ]
    },
    {
     "name": "stdout",
     "output_type": "stream",
     "text": [
      "Processed frame 16\n",
      "Processed frame 17\n"
     ]
    },
    {
     "name": "stderr",
     "output_type": "stream",
     "text": [
      "C:\\Users\\HYVision\\AppData\\Local\\Temp\\ipykernel_15180\\3846269758.py:87: MatplotlibDeprecationWarning: The tostring_rgb function was deprecated in Matplotlib 3.8 and will be removed two minor releases later. Use buffer_rgba instead.\n",
      "  radar_chart_image = np.frombuffer(fig.canvas.tostring_rgb(), dtype=np.uint8)\n",
      "C:\\Users\\HYVision\\AppData\\Local\\Temp\\ipykernel_15180\\3846269758.py:87: MatplotlibDeprecationWarning: The tostring_rgb function was deprecated in Matplotlib 3.8 and will be removed two minor releases later. Use buffer_rgba instead.\n",
      "  radar_chart_image = np.frombuffer(fig.canvas.tostring_rgb(), dtype=np.uint8)\n"
     ]
    },
    {
     "name": "stdout",
     "output_type": "stream",
     "text": [
      "Processed frame 18\n",
      "Processed frame 19\n"
     ]
    },
    {
     "name": "stderr",
     "output_type": "stream",
     "text": [
      "C:\\Users\\HYVision\\AppData\\Local\\Temp\\ipykernel_15180\\3846269758.py:87: MatplotlibDeprecationWarning: The tostring_rgb function was deprecated in Matplotlib 3.8 and will be removed two minor releases later. Use buffer_rgba instead.\n",
      "  radar_chart_image = np.frombuffer(fig.canvas.tostring_rgb(), dtype=np.uint8)\n",
      "C:\\Users\\HYVision\\AppData\\Local\\Temp\\ipykernel_15180\\3846269758.py:87: MatplotlibDeprecationWarning: The tostring_rgb function was deprecated in Matplotlib 3.8 and will be removed two minor releases later. Use buffer_rgba instead.\n",
      "  radar_chart_image = np.frombuffer(fig.canvas.tostring_rgb(), dtype=np.uint8)\n"
     ]
    },
    {
     "name": "stdout",
     "output_type": "stream",
     "text": [
      "Processed frame 20\n",
      "Processed frame 21\n"
     ]
    },
    {
     "name": "stderr",
     "output_type": "stream",
     "text": [
      "C:\\Users\\HYVision\\AppData\\Local\\Temp\\ipykernel_15180\\3846269758.py:87: MatplotlibDeprecationWarning: The tostring_rgb function was deprecated in Matplotlib 3.8 and will be removed two minor releases later. Use buffer_rgba instead.\n",
      "  radar_chart_image = np.frombuffer(fig.canvas.tostring_rgb(), dtype=np.uint8)\n",
      "C:\\Users\\HYVision\\AppData\\Local\\Temp\\ipykernel_15180\\3846269758.py:87: MatplotlibDeprecationWarning: The tostring_rgb function was deprecated in Matplotlib 3.8 and will be removed two minor releases later. Use buffer_rgba instead.\n",
      "  radar_chart_image = np.frombuffer(fig.canvas.tostring_rgb(), dtype=np.uint8)\n"
     ]
    },
    {
     "name": "stdout",
     "output_type": "stream",
     "text": [
      "Processed frame 22\n",
      "Processed frame 23\n"
     ]
    },
    {
     "name": "stderr",
     "output_type": "stream",
     "text": [
      "C:\\Users\\HYVision\\AppData\\Local\\Temp\\ipykernel_15180\\3846269758.py:87: MatplotlibDeprecationWarning: The tostring_rgb function was deprecated in Matplotlib 3.8 and will be removed two minor releases later. Use buffer_rgba instead.\n",
      "  radar_chart_image = np.frombuffer(fig.canvas.tostring_rgb(), dtype=np.uint8)\n",
      "C:\\Users\\HYVision\\AppData\\Local\\Temp\\ipykernel_15180\\3846269758.py:87: MatplotlibDeprecationWarning: The tostring_rgb function was deprecated in Matplotlib 3.8 and will be removed two minor releases later. Use buffer_rgba instead.\n",
      "  radar_chart_image = np.frombuffer(fig.canvas.tostring_rgb(), dtype=np.uint8)\n"
     ]
    },
    {
     "name": "stdout",
     "output_type": "stream",
     "text": [
      "Processed frame 24\n",
      "Processed frame 25\n"
     ]
    },
    {
     "name": "stderr",
     "output_type": "stream",
     "text": [
      "C:\\Users\\HYVision\\AppData\\Local\\Temp\\ipykernel_15180\\3846269758.py:87: MatplotlibDeprecationWarning: The tostring_rgb function was deprecated in Matplotlib 3.8 and will be removed two minor releases later. Use buffer_rgba instead.\n",
      "  radar_chart_image = np.frombuffer(fig.canvas.tostring_rgb(), dtype=np.uint8)\n",
      "C:\\Users\\HYVision\\AppData\\Local\\Temp\\ipykernel_15180\\3846269758.py:87: MatplotlibDeprecationWarning: The tostring_rgb function was deprecated in Matplotlib 3.8 and will be removed two minor releases later. Use buffer_rgba instead.\n",
      "  radar_chart_image = np.frombuffer(fig.canvas.tostring_rgb(), dtype=np.uint8)\n"
     ]
    },
    {
     "name": "stdout",
     "output_type": "stream",
     "text": [
      "Processed frame 26\n",
      "Processed frame 27\n"
     ]
    },
    {
     "name": "stderr",
     "output_type": "stream",
     "text": [
      "C:\\Users\\HYVision\\AppData\\Local\\Temp\\ipykernel_15180\\3846269758.py:87: MatplotlibDeprecationWarning: The tostring_rgb function was deprecated in Matplotlib 3.8 and will be removed two minor releases later. Use buffer_rgba instead.\n",
      "  radar_chart_image = np.frombuffer(fig.canvas.tostring_rgb(), dtype=np.uint8)\n",
      "C:\\Users\\HYVision\\AppData\\Local\\Temp\\ipykernel_15180\\3846269758.py:87: MatplotlibDeprecationWarning: The tostring_rgb function was deprecated in Matplotlib 3.8 and will be removed two minor releases later. Use buffer_rgba instead.\n",
      "  radar_chart_image = np.frombuffer(fig.canvas.tostring_rgb(), dtype=np.uint8)\n"
     ]
    },
    {
     "name": "stdout",
     "output_type": "stream",
     "text": [
      "Processed frame 28\n",
      "Processed frame 29\n"
     ]
    },
    {
     "name": "stderr",
     "output_type": "stream",
     "text": [
      "C:\\Users\\HYVision\\AppData\\Local\\Temp\\ipykernel_15180\\3846269758.py:87: MatplotlibDeprecationWarning: The tostring_rgb function was deprecated in Matplotlib 3.8 and will be removed two minor releases later. Use buffer_rgba instead.\n",
      "  radar_chart_image = np.frombuffer(fig.canvas.tostring_rgb(), dtype=np.uint8)\n",
      "C:\\Users\\HYVision\\AppData\\Local\\Temp\\ipykernel_15180\\3846269758.py:87: MatplotlibDeprecationWarning: The tostring_rgb function was deprecated in Matplotlib 3.8 and will be removed two minor releases later. Use buffer_rgba instead.\n",
      "  radar_chart_image = np.frombuffer(fig.canvas.tostring_rgb(), dtype=np.uint8)\n"
     ]
    },
    {
     "name": "stdout",
     "output_type": "stream",
     "text": [
      "Processed frame 30\n",
      "Processed frame 31\n",
      "Processed frame 32\n"
     ]
    },
    {
     "name": "stderr",
     "output_type": "stream",
     "text": [
      "C:\\Users\\HYVision\\AppData\\Local\\Temp\\ipykernel_15180\\3846269758.py:87: MatplotlibDeprecationWarning: The tostring_rgb function was deprecated in Matplotlib 3.8 and will be removed two minor releases later. Use buffer_rgba instead.\n",
      "  radar_chart_image = np.frombuffer(fig.canvas.tostring_rgb(), dtype=np.uint8)\n"
     ]
    }
   ],
   "source": [
    "import cv2\n",
    "import numpy as np\n",
    "import matplotlib.pyplot as plt\n",
    "from math import pi\n",
    "import pandas as pd\n",
    "import os\n",
    "\n",
    "# 영상 불러오기\n",
    "video_path = 'C:/Users/jk/action_assess_2/post_data/video/Z76_Z76_keypoints.avi'\n",
    "cap = cv2.VideoCapture(video_path)\n",
    "\n",
    "# 비디오 저장 설정\n",
    "output_path = 'C:/Users/jk/action_assess_2/post_data/video/output_with_radar_chart.avi'\n",
    "frame_save_path = 'C:/Users/jk/action_assess_2/post_data/video/frames'\n",
    "os.makedirs(frame_save_path, exist_ok=True)\n",
    "fourcc = cv2.VideoWriter_fourcc(*'XVID')\n",
    "fps = cap.get(cv2.CAP_PROP_FPS)\n",
    "frame_width = int(cap.get(cv2.CAP_PROP_FRAME_WIDTH))\n",
    "frame_height = int(cap.get(cv2.CAP_PROP_FRAME_HEIGHT))\n",
    "combined_width = frame_width + 800  # Adjust the width to accommodate the radar chart\n",
    "combined_height = frame_height  # Keep the height the same as the video frame\n",
    "out = cv2.VideoWriter(output_path, fourcc, fps, (combined_width, combined_height))\n",
    "\n",
    "# 레이더 차트 그리기 함수\n",
    "def draw_radar_chart(ax, data, labels, color):\n",
    "    num_labels = len(labels)\n",
    "    angles = [x / float(num_labels) * (2 * pi) for x in range(num_labels)]\n",
    "    angles += angles[:1]\n",
    "    \n",
    "    ax.set_theta_offset(pi / 2)\n",
    "    ax.set_theta_direction(-1)\n",
    "    \n",
    "    plt.xticks(angles[:-1], labels, fontsize=13)\n",
    "    ax.tick_params(axis='x', which='major', pad=15)\n",
    "    \n",
    "    ax.set_rlabel_position(0)\n",
    "    plt.yticks([0, 2, 4, 6, 8, 10], ['0', '2', '4', '6', '8', '10'], fontsize=10)\n",
    "    plt.ylim(0, 10)\n",
    "    \n",
    "    data += data[:1]\n",
    "    ax.plot(angles, data, color=color, linewidth=2, linestyle='solid')\n",
    "    ax.fill(angles, data, color=color, alpha=0.4)\n",
    "\n",
    "import pandas as pd\n",
    "\n",
    "# 데이터프레임 예시 확장\n",
    "data = {\n",
    "    'Character': ['A', 'A', 'A', 'A', 'A', 'A'],\n",
    "    'Postural stability': [5, 6, 7, 4, 5, 6],\n",
    "    'Velocity stability': [6, 7, 8, 5, 6, 7],\n",
    "    'Degree of exercise ': [8, 9, 7, 6, 5, 4],\n",
    "    'Eccentric contraction  ': [7, 3, 5, 4, 3, 2],\n",
    "    'Concentric contraction': [6, 2, 4, 3, 2, 1],\n",
    "    'Isometric contraction': [5, 4, 3, 2, 1, 3]\n",
    "}\n",
    "df = pd.DataFrame(data)\n",
    "print(df)\n",
    "\n",
    "\n",
    "labels = df.columns[1:]\n",
    "#my_palette = plt.cm.get_cmap(\"Set2\", len(df.index))\n",
    "my_palette = plt.cm.get_cmap(\"Set2\", 1)\n",
    "frame_count = 0\n",
    "num_rows = len(df)\n",
    "\n",
    "while cap.isOpened():\n",
    "    ret, frame = cap.read()\n",
    "    if not ret:\n",
    "        break\n",
    "\n",
    "    # 현재 프레임에 해당하는 데이터 선택\n",
    "    row_index = frame_count % num_rows\n",
    "    row = df.iloc[row_index]\n",
    "\n",
    "    fig = plt.figure(figsize=(8, 8))\n",
    "    fig.set_facecolor('white')\n",
    "    ax = fig.add_subplot(111, polar=True)\n",
    "\n",
    "    color = my_palette(row_index)\n",
    "    data = row.drop('Character').tolist()\n",
    "    draw_radar_chart(ax, data, labels, color)\n",
    "\n",
    "    plt.legend([row['Character']], loc=(0.9, 0.9))\n",
    "    fig.canvas.draw()\n",
    "    \n",
    "    # Matplotlib의 레이더 차트를 OpenCV 이미지로 변환\n",
    "    radar_chart_image = np.frombuffer(fig.canvas.tostring_rgb(), dtype=np.uint8)\n",
    "    radar_chart_image = radar_chart_image.reshape(fig.canvas.get_width_height()[::-1] + (3,))\n",
    "    radar_chart_image = cv2.cvtColor(radar_chart_image, cv2.COLOR_RGB2BGR)\n",
    "    \n",
    "    plt.close(fig)\n",
    "\n",
    "    # Create a larger canvas to hold both the video frame and the radar chart\n",
    "    combined_image = np.zeros((combined_height, combined_width, 3), dtype=np.uint8)\n",
    "\n",
    "    # Place the video frame on the left side of the canvas\n",
    "    combined_image[:frame_height, :frame_width] = frame\n",
    "\n",
    "    # Place the radar chart on the right side of the canvas\n",
    "    combined_image[:radar_chart_image.shape[0], frame_width:frame_width + radar_chart_image.shape[1]] = radar_chart_image\n",
    "\n",
    "    # 비디오 저장\n",
    "    out.write(combined_image)\n",
    "\n",
    "    # 프레임을 개별 이미지로 저장\n",
    "    frame_filename = os.path.join(frame_save_path, f'frame_{frame_count:04d}.png')\n",
    "    cv2.imwrite(frame_filename, combined_image)\n",
    "\n",
    "    frame_count += 1\n",
    "    print(f'Processed frame {frame_count}')\n",
    "\n",
    "    # OpenCV를 사용하여 최종 영상 시각화 (원하는 경우 주석 해제)\n",
    "    # cv2.imshow('Video Frame with Radar Chart', combined_image)\n",
    "    \n",
    "    # if cv2.waitKey(1) & 0xFF == ord('q'):\n",
    "    #     break\n",
    "\n",
    "# 자원 해제\n",
    "cap.release()\n",
    "out.release()\n",
    "cv2.destroyAllWindows()\n"
   ]
  },
  {
   "cell_type": "code",
   "execution_count": null,
   "metadata": {},
   "outputs": [],
   "source": [
    "data = {\n",
    "    'Character': ['A', 'A'],\n",
    "    'Metric1': [5, 6],\n",
    "    'Metric2': [6, 7],\n",
    "    'Metric3': [8, 9],\n",
    "    'Metric4': [7, 3],\n",
    "    'Metric5': [6, 2],\n",
    "    'Metric6': [5, 4]\n",
    "}\n",
    "df = pd.DataFrame(data)"
   ]
  }
 ],
 "metadata": {
  "kernelspec": {
   "display_name": "poserac",
   "language": "python",
   "name": "python3"
  },
  "language_info": {
   "codemirror_mode": {
    "name": "ipython",
    "version": 3
   },
   "file_extension": ".py",
   "mimetype": "text/x-python",
   "name": "python",
   "nbconvert_exporter": "python",
   "pygments_lexer": "ipython3",
   "version": "3.11.4"
  }
 },
 "nbformat": 4,
 "nbformat_minor": 2
}
