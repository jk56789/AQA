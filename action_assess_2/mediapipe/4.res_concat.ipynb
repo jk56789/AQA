{
 "cells": [
  {
   "cell_type": "code",
   "execution_count": 1,
   "metadata": {},
   "outputs": [
    {
     "name": "stdout",
     "output_type": "stream",
     "text": [
      "Error: Could not open one of the videos.\n"
     ]
    }
   ],
   "source": [
    "import cv2\n",
    "\n",
    "def concat_videos_horizontally(video_path1, video_path2, output_path):\n",
    "    # 비디오 파일 열기\n",
    "    cap1 = cv2.VideoCapture(video_path1)\n",
    "    cap2 = cv2.VideoCapture(video_path2)\n",
    "    \n",
    "    if not cap1.isOpened() or not cap2.isOpened():\n",
    "        print(\"Error: Could not open one of the videos.\")\n",
    "        return\n",
    "    \n",
    "    # 비디오 속성 가져오기\n",
    "    width1 = int(cap1.get(cv2.CAP_PROP_FRAME_WIDTH))\n",
    "    height1 = int(cap1.get(cv2.CAP_PROP_FRAME_HEIGHT))\n",
    "    fps1 = cap1.get(cv2.CAP_PROP_FPS)\n",
    "    \n",
    "    width2 = int(cap2.get(cv2.CAP_PROP_FRAME_WIDTH))\n",
    "    height2 = int(cap2.get(cv2.CAP_PROP_FRAME_HEIGHT))\n",
    "    fps2 = cap2.get(cv2.CAP_PROP_FPS)\n",
    "    \n",
    "    # 두 비디오의 프레임 크기와 FPS가 동일한지 확인\n",
    "    if width1 != width2 or height1 != height2 or fps1 != fps2:\n",
    "        print(\"Error: Videos do not have the same dimensions or FPS.\")\n",
    "        return\n",
    "    \n",
    "    # 출력 비디오 설정\n",
    "    fourcc = cv2.VideoWriter_fourcc(*'XVID')\n",
    "    out = cv2.VideoWriter(output_path, fourcc, fps1, (width1 + width2, height1))\n",
    "    \n",
    "    while True:\n",
    "        ret1, frame1 = cap1.read()\n",
    "        ret2, frame2 = cap2.read()\n",
    "        \n",
    "        if not ret1 or not ret2:\n",
    "            break\n",
    "        \n",
    "        # 프레임을 가로로 병합\n",
    "        combined_frame = cv2.hconcat([frame1, frame2])\n",
    "        \n",
    "        # 병합된 프레임을 출력 비디오에 저장\n",
    "        out.write(combined_frame)\n",
    "    \n",
    "    # 자원 해제\n",
    "    cap1.release()\n",
    "    cap2.release()\n",
    "    out.release()\n",
    "    print(f\"Videos have been concatenated and saved to {output_path}\")\n",
    "\n",
    "# 사용 예시\n",
    "person1 = \"Z76\"\n",
    "person2 = \"Z106\"\n",
    "\n",
    "video_path1 = f'C:/Users/jk/action_assess_2/data/video/{person1}_keypoints/keypoints_313-2-1-15-{person1}_D.avi'\n",
    "video_path2 = f'C:/Users/jk/action_assess_2/data/video/{person2}_keypoints/keypoints_313-2-1-15-{person2}_D.avi'\n",
    "output_path = f'C:/Users/jk/action_assess_2/data/video/{person1}_{person1}_keypoints.avi'\n",
    "\n",
    "concat_videos_horizontally(video_path1, video_path2, output_path)\n",
    "\n"
   ]
  }
 ],
 "metadata": {
  "kernelspec": {
   "display_name": "poserac",
   "language": "python",
   "name": "python3"
  },
  "language_info": {
   "codemirror_mode": {
    "name": "ipython",
    "version": 3
   },
   "file_extension": ".py",
   "mimetype": "text/x-python",
   "name": "python",
   "nbconvert_exporter": "python",
   "pygments_lexer": "ipython3",
   "version": "3.11.4"
  }
 },
 "nbformat": 4,
 "nbformat_minor": 2
}
