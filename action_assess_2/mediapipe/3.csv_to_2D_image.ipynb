{
 "cells": [
  {
   "cell_type": "code",
   "execution_count": 8,
   "metadata": {},
   "outputs": [
    {
     "name": "stdout",
     "output_type": "stream",
     "text": [
      "Processed 32 frames. Output saved to C:/Users/jk/action_assess_2/data/video/Z76_keypoints/keypoints_313-2-1-15-Z76_D.avi\n",
      "Processed 32 frames. Output saved to C:/Users/jk/action_assess_2/data/video/Z106_keypoints/keypoints_313-2-1-15-Z106_D.avi\n"
     ]
    }
   ],
   "source": [
    "import cv2\n",
    "import mediapipe as mp\n",
    "import csv\n",
    "import os\n",
    "import numpy as np\n",
    "from mediapipe.framework.formats import landmark_pb2\n",
    "\n",
    "# MediaPipe 초기화\n",
    "mp_pose = mp.solutions.pose\n",
    "pose = mp_pose.Pose()\n",
    "mp_drawing = mp.solutions.drawing_utils\n",
    "\n",
    "def read_keypoints_from_csv(csv_file):\n",
    "    keypoints = []\n",
    "    with open(csv_file, mode='r') as file:\n",
    "        reader = csv.reader(file)\n",
    "        header = next(reader)\n",
    "        for row in reader:\n",
    "            frame_keypoints = []\n",
    "            for i in range(33):\n",
    "                x = float(row[1 + i*4])\n",
    "                y = float(row[2 + i*4])\n",
    "                z = float(row[3 + i*4])\n",
    "                visibility = float(row[4 + i*4])\n",
    "                frame_keypoints.append(landmark_pb2.NormalizedLandmark(x=x, y=y, z=z, visibility=visibility))\n",
    "            keypoints.append(frame_keypoints)\n",
    "    return keypoints\n",
    "\n",
    "def draw_keypoints_on_video(video_path, keypoints, output_path):\n",
    "    cap = cv2.VideoCapture(video_path)\n",
    "    if not cap.isOpened():\n",
    "        print(f\"Error: Could not open video {video_path}.\")\n",
    "        return\n",
    "    \n",
    "    width = int(cap.get(cv2.CAP_PROP_FRAME_WIDTH))\n",
    "    height = int(cap.get(cv2.CAP_PROP_FRAME_HEIGHT))\n",
    "    fps = cap.get(cv2.CAP_PROP_FPS)\n",
    "    \n",
    "    # Ensure the output directory exists\n",
    "    output_dir = os.path.dirname(output_path)\n",
    "    if not os.path.exists(output_dir):\n",
    "        os.makedirs(output_dir)\n",
    "    \n",
    "    fourcc = cv2.VideoWriter_fourcc(*'XVID')\n",
    "    out = cv2.VideoWriter(output_path, fourcc, fps, (width, height))\n",
    "    \n",
    "    frame_count = 0\n",
    "    while True:\n",
    "        ret, frame = cap.read()\n",
    "        if not ret:\n",
    "            break\n",
    "        \n",
    "        if frame_count < len(keypoints):\n",
    "            frame_keypoints = keypoints[frame_count]\n",
    "            pose_landmarks = landmark_pb2.NormalizedLandmarkList(landmark=frame_keypoints)\n",
    "            mp_drawing.draw_landmarks(frame, pose_landmarks, mp_pose.POSE_CONNECTIONS)\n",
    "        \n",
    "        out.write(frame)\n",
    "        frame_count += 1\n",
    "    \n",
    "    cap.release()\n",
    "    out.release()\n",
    "    print(f\"Processed {frame_count} frames. Output saved to {output_path}\")\n",
    "\n",
    "# 사용 예시\n",
    "csv_file1 = 'C:/Users/jk/action_assess_2/data/csv/Z76/313-2-1-15-Z76_D.csv'\n",
    "csv_file2 = 'C:/Users/jk/action_assess_2/data/csv/Z106/313-2-1-15-Z106_D.csv'\n",
    "video_path1 = 'C:/Users/jk/action_assess_2/data/video/Z76/313-2-1-15-Z76_D.avi'\n",
    "video_path2 = 'C:/Users/jk/action_assess_2/data/video/Z106/313-2-1-15-Z106_D.avi'\n",
    "output_path1 = 'C:/Users/jk/action_assess_2/data/video/Z76_keypoints/keypoints_313-2-1-15-Z76_D.avi'\n",
    "output_path2 = 'C:/Users/jk/action_assess_2/data/video/Z106_keypoints/keypoints_313-2-1-15-Z106_D.avi'\n",
    "\n",
    "keypoints1 = read_keypoints_from_csv(csv_file1)\n",
    "keypoints2 = read_keypoints_from_csv(csv_file2)\n",
    "\n",
    "draw_keypoints_on_video(video_path1, keypoints1, output_path1)\n",
    "draw_keypoints_on_video(video_path2, keypoints2, output_path2)"
   ]
  }
 ],
 "metadata": {
  "kernelspec": {
   "display_name": "poserac",
   "language": "python",
   "name": "python3"
  },
  "language_info": {
   "codemirror_mode": {
    "name": "ipython",
    "version": 3
   },
   "file_extension": ".py",
   "mimetype": "text/x-python",
   "name": "python",
   "nbconvert_exporter": "python",
   "pygments_lexer": "ipython3",
   "version": "3.11.4"
  }
 },
 "nbformat": 4,
 "nbformat_minor": 2
}
