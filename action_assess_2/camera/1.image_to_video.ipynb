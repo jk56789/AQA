{
 "cells": [
  {
   "cell_type": "code",
   "execution_count": 5,
   "metadata": {},
   "outputs": [
    {
     "name": "stdout",
     "output_type": "stream",
     "text": [
      "Video saved to C:/Users/jk/action_assess_2/data/video/Z52/313-2-1-15-Z52_D.avi\n",
      "Video saved to C:/Users/jk/action_assess_2/data/video/Z52/314-2-1-15-Z52_D.avi\n",
      "Video saved to C:/Users/jk/action_assess_2/data/video/Z52/315-2-1-15-Z52_D.avi\n",
      "Video saved to C:/Users/jk/action_assess_2/data/video/Z52/316-2-1-15-Z52_D.avi\n",
      "Video saved to C:/Users/jk/action_assess_2/data/video/Z52/317-2-1-15-Z52_D.avi\n",
      "Video saved to C:/Users/jk/action_assess_2/data/video/Z52/318-2-1-15-Z52_D.avi\n",
      "Video saved to C:/Users/jk/action_assess_2/data/video/Z52/319-2-1-15-Z52_D.avi\n",
      "Video saved to C:/Users/jk/action_assess_2/data/video/Z52/320-2-1-15-Z52_D.avi\n",
      "Video saved to C:/Users/jk/action_assess_2/data/video/Z52/321-2-1-15-Z52_D.avi\n",
      "Video saved to C:/Users/jk/action_assess_2/data/video/Z52/322-2-1-15-Z52_D.avi\n",
      "Video saved to C:/Users/jk/action_assess_2/data/video/Z52/323-2-1-15-Z52_D.avi\n",
      "Video saved to C:/Users/jk/action_assess_2/data/video/Z52/324-2-1-15-Z52_D.avi\n",
      "Video saved to C:/Users/jk/action_assess_2/data/video/Z52/325-2-1-15-Z52_D.avi\n",
      "Video saved to C:/Users/jk/action_assess_2/data/video/Z52/326-2-1-15-Z52_D.avi\n",
      "Video saved to C:/Users/jk/action_assess_2/data/video/Z52/327-2-1-15-Z52_D.avi\n",
      "Video saved to C:/Users/jk/action_assess_2/data/video/Z52/328-2-1-15-Z52_D.avi\n"
     ]
    }
   ],
   "source": [
    "import cv2\n",
    "import os\n",
    "\n",
    "def create_video_from_images(image_folder, output_video_path, fps=5):\n",
    "    # 이미지 파일 목록 가져오기\n",
    "    images = [img for img in os.listdir(image_folder) if img.endswith(\".jpg\")]\n",
    "    images.sort()  # 파일 이름 순서대로 정렬\n",
    "    \n",
    "    if not images:\n",
    "        print(\"Error: No images found in the folder.\")\n",
    "        return\n",
    "    \n",
    "    # 첫 번째 이미지로부터 프레임 크기 가져오기\n",
    "    first_image_path = os.path.join(image_folder, images[0])\n",
    "    frame = cv2.imread(first_image_path)\n",
    "    height, width, layers = frame.shape\n",
    "    \n",
    "    # 비디오 작성기 초기화\n",
    "    fourcc = cv2.VideoWriter_fourcc(*'XVID')\n",
    "    video = cv2.VideoWriter(output_video_path, fourcc, fps, (width, height))\n",
    "    \n",
    "    for image in images:\n",
    "        image_path = os.path.join(image_folder, image)\n",
    "        frame = cv2.imread(image_path)\n",
    "        video.write(frame)\n",
    "    \n",
    "    video.release()\n",
    "    print(f\"Video saved to {output_video_path}\")\n",
    "\n",
    "# 사용 예시\n",
    "person = \"Z52\"\n",
    "for i in range(313,329):\n",
    "    image_folder = f'C:/Users/jk/action_assess_2/data/video/Day15_201015_F/2/D/{i}-2-1-15-{person}_D'\n",
    "    output_video_path = f'C:/Users/jk/action_assess_2/data/video/Z52/{i}-2-1-15-{person}_D.avi'\n",
    "    create_video_from_images(image_folder, output_video_path)"
   ]
  }
 ],
 "metadata": {
  "kernelspec": {
   "display_name": "poserac",
   "language": "python",
   "name": "python3"
  },
  "language_info": {
   "codemirror_mode": {
    "name": "ipython",
    "version": 3
   },
   "file_extension": ".py",
   "mimetype": "text/x-python",
   "name": "python",
   "nbconvert_exporter": "python",
   "pygments_lexer": "ipython3",
   "version": "3.11.4"
  }
 },
 "nbformat": 4,
 "nbformat_minor": 2
}
